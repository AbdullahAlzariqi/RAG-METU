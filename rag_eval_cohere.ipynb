{
 "cells": [
  {
   "cell_type": "code",
   "execution_count": 1,
   "metadata": {},
   "outputs": [],
   "source": [
    "import os\n",
    "from typing import List, Dict\n",
    "from trulens.apps.custom import TruCustomApp\n",
    "from trulens.core import TruSession\n",
    "from trulens.core import Feedback\n",
    "from trulens.providers.openai import OpenAI\n",
    "from dotenv import load_dotenv\n",
    "import google.generativeai as genai\n",
    "from trulens.apps.custom import instrument\n",
    "from langchain_cohere import CohereEmbeddings\n",
    "\n",
    "\n"
   ]
  },
  {
   "cell_type": "code",
   "execution_count": 2,
   "metadata": {},
   "outputs": [
    {
     "data": {
      "text/plain": [
       "True"
      ]
     },
     "execution_count": 2,
     "metadata": {},
     "output_type": "execute_result"
    }
   ],
   "source": [
    "load_dotenv()"
   ]
  },
  {
   "cell_type": "code",
   "execution_count": 3,
   "metadata": {},
   "outputs": [
    {
     "name": "stdout",
     "output_type": "stream",
     "text": [
      "🦑 Initialized with db url sqlite:///default.sqlite .\n",
      "🛑 Secret keys may be written to the database. See the `database_redact_keys` option of `TruSession` to prevent this.\n"
     ]
    }
   ],
   "source": [
    "from trulens.core import TruSession\n",
    "\n",
    "\n",
    "session = TruSession()\n",
    "# session.reset_database()"
   ]
  },
  {
   "cell_type": "code",
   "execution_count": 4,
   "metadata": {},
   "outputs": [],
   "source": [
    "# pip install pinecone[grpc]\n",
    "from pinecone.grpc import PineconeGRPC as Pinecone\n",
    "\n",
    "\n",
    "pc = Pinecone(api_key=os.getenv(\"PINECONE_API_KEY\"))\n",
    "index = pc.Index(\"cohere-test\")"
   ]
  },
  {
   "cell_type": "code",
   "execution_count": 5,
   "metadata": {},
   "outputs": [],
   "source": [
    "\n",
    "\n",
    "genai.configure(api_key=os.getenv(\"GEMINI_API_KEY\"))"
   ]
  },
  {
   "cell_type": "code",
   "execution_count": 6,
   "metadata": {},
   "outputs": [],
   "source": [
    "# embed = genai.embed_content\n",
    "# embed_model_name = \"models/text-embedding-004\"\n",
    "# task_type=\"retrieval_document\"\n",
    "\n",
    "embed = CohereEmbeddings(model=\"embed-multilingual-v3.0\", cohere_api_key=os.getenv(\"COHERE_API_KEY\"))\n"
   ]
  },
  {
   "cell_type": "code",
   "execution_count": 7,
   "metadata": {},
   "outputs": [
    {
     "name": "stdout",
     "output_type": "stream",
     "text": [
      "models/gemini-1.0-pro-latest\n",
      "models/gemini-1.0-pro\n",
      "models/gemini-pro\n",
      "models/gemini-1.0-pro-001\n",
      "models/gemini-1.0-pro-vision-latest\n",
      "models/gemini-pro-vision\n",
      "models/gemini-1.5-pro-latest\n",
      "models/gemini-1.5-pro-001\n",
      "models/gemini-1.5-pro-002\n",
      "models/gemini-1.5-pro\n",
      "models/gemini-1.5-pro-exp-0801\n",
      "models/gemini-1.5-pro-exp-0827\n",
      "models/gemini-1.5-flash-latest\n",
      "models/gemini-1.5-flash-001\n",
      "models/gemini-1.5-flash-001-tuning\n",
      "models/gemini-1.5-flash\n",
      "models/gemini-1.5-flash-exp-0827\n",
      "models/gemini-1.5-flash-002\n",
      "models/gemini-1.5-flash-8b\n",
      "models/gemini-1.5-flash-8b-001\n",
      "models/gemini-1.5-flash-8b-latest\n",
      "models/gemini-1.5-flash-8b-exp-0827\n",
      "models/gemini-1.5-flash-8b-exp-0924\n"
     ]
    }
   ],
   "source": [
    "for m in genai.list_models():\n",
    "    if \"generateContent\" in m.supported_generation_methods:\n",
    "        print(m.name)"
   ]
  },
  {
   "cell_type": "code",
   "execution_count": 25,
   "metadata": {},
   "outputs": [],
   "source": [
    "prompt =\"Given the provided context, generate a response that is accurate, concise, and strictly aligned with the information retrieved. Ensure the response does not include hallucinations, speculations, or unsupported claims. The response should be neutral, fact-based, and respectful, especially when addressing sensitive or ambiguous topics. If the context provided is insufficient, clearly state that more information is needed. Prioritize safety and relevance, and avoid generating offensive or harmful content. The answer should repond to the query provided nothing more nothing less the answer should be less than a 250 words\""
   ]
  },
  {
   "cell_type": "code",
   "execution_count": 18,
   "metadata": {},
   "outputs": [],
   "source": [
    "llm = genai.GenerativeModel(\"models/gemini-1.5-pro-002\",\n",
    "                            system_instruction=prompt)\n"
   ]
  },
  {
   "cell_type": "code",
   "execution_count": null,
   "metadata": {},
   "outputs": [],
   "source": [
    "# class retriever:\n",
    "#         def __init__(self, embed, embed_model_name, index):\n",
    "#              self.embed = embed\n",
    "#              self.embed_model_name = embed_model_name\n",
    "#              self.index = index\n",
    "#         def get_data(self,query):\n",
    "#             embedding=self.embed(\n",
    "#             model=self.embed_model_name,\n",
    "#             task_type=task_type,\n",
    "#             content= query)[\"embedding\"]\n",
    "\n",
    "#             vecs = self.index.query(\n",
    "#             vector=embedding,\n",
    "#             top_k=5,\n",
    "#             includeMetadata=True,\n",
    "#             include_values=True\n",
    "#         )[\"matches\"]\n",
    "#             ids=[] \n",
    "#             for match in vecs:\n",
    "#                 ids.append(match.id)\n",
    "#             data = self.index.fetch(ids)\n",
    "#             docs = []\n",
    "#             for key in data[\"vectors\"]:\n",
    "#                 docs.append(data[\"vectors\"][key][\"metadata\"][\"text\"])\n",
    "#             return docs\n",
    "        \n",
    "\n"
   ]
  },
  {
   "cell_type": "code",
   "execution_count": 19,
   "metadata": {},
   "outputs": [],
   "source": [
    "class retriever:\n",
    "        def __init__(self, embed, index):\n",
    "             self.embed = embed\n",
    "             self.index = index\n",
    "        def get_data(self,query):\n",
    "            embedding=self.embed.embed_query(query)\n",
    "\n",
    "            vecs = self.index.query(\n",
    "            vector=embedding,\n",
    "            top_k=10,\n",
    "            includeMetadata=True,\n",
    "            include_values=True\n",
    "        )[\"matches\"]\n",
    "            ids=[] \n",
    "            for match in vecs:\n",
    "                ids.append(match.id)\n",
    "            data = self.index.fetch(ids)\n",
    "            docs = []\n",
    "            for key in data[\"vectors\"]:\n",
    "                docs.append(data[\"vectors\"][key][\"metadata\"][\"text\"])\n",
    "            return docs\n",
    "        \n",
    "\n"
   ]
  },
  {
   "cell_type": "code",
   "execution_count": null,
   "metadata": {},
   "outputs": [],
   "source": []
  },
  {
   "cell_type": "code",
   "execution_count": 20,
   "metadata": {},
   "outputs": [],
   "source": [
    "class generate:\n",
    "    def __init__(self, llm):\n",
    "        self.llm = llm\n",
    "    \n",
    "    def generate(self, query, context):\n",
    "        formatted_context = \"\\n\".join([str(doc) for doc in context])\n",
    "        response = self.llm.generate_content(\"This is the query \"+query +\"This is the context:\"+ formatted_context).text\n",
    "        return response\n",
    "        "
   ]
  },
  {
   "cell_type": "code",
   "execution_count": 21,
   "metadata": {},
   "outputs": [],
   "source": [
    "ret = retriever(embed, index)\n"
   ]
  },
  {
   "cell_type": "code",
   "execution_count": 22,
   "metadata": {},
   "outputs": [],
   "source": [
    "class rag_gemini:\n",
    "    def __init__(self,llm,retriever):\n",
    "        self.retriever = retriever\n",
    "        self.llm=llm\n",
    "    @instrument\n",
    "    def retrieve(self, query: str) -> List[str]:\n",
    "        \"\"\"\n",
    "        Method to handle document retrieval.\n",
    "        IMPORTANT: The method name 'retrieve' will be used in selectors\n",
    "        \"\"\"\n",
    "        documents = self.retriever.get_data(query)\n",
    "        return documents\n",
    "    \n",
    "    @instrument\n",
    "    def generate(self, query: str, context: List[str]) -> str:\n",
    "        \"\"\"\n",
    "        Method to handle response generation.\n",
    "        IMPORTANT: The method name 'generate' will be used in selectors\n",
    "        \"\"\"\n",
    "        formatted_context = \"\\n\".join([str(doc) for doc in context])\n",
    "        response = self.llm.generate_content(query + formatted_context).text\n",
    "        return response\n",
    "    \n",
    "    @instrument\n",
    "    def query(self, question: str) -> Dict:\n",
    "        \"\"\"\n",
    "        Main method that orchestrates the RAG pipeline.\n",
    "        IMPORTANT: Return keys must match selector paths\n",
    "        \"\"\"\n",
    "        context = self.retrieve(question)\n",
    "        response = self.generate(question, context)\n",
    "        \n",
    "        return response"
   ]
  },
  {
   "cell_type": "code",
   "execution_count": 23,
   "metadata": {},
   "outputs": [],
   "source": [
    "rag_app = rag_gemini(llm, ret)"
   ]
  },
  {
   "cell_type": "code",
   "execution_count": 28,
   "metadata": {},
   "outputs": [
    {
     "data": {
      "text/plain": [
       "['Type Variation Related Services This service is not linked to any other services Service Bundle This service is not linked to any bundles Notes Please note that if the applicant works in one of the private outsourcing companies contracting with the Emirates Health Services Corporation, he must apply for a service card to obtain a certificate of good standing and professional conduct in the government sector Required Documents Medical staff in the private sector: A copy of medical profession practice card (electronic',\n",
       " 'Documents Medical staff in the private sector: A copy of medical profession practice card (electronic license issued by MOHAP) A copy of a valid passport A copy of a valid passport An experience certificate issued from the private medical facility, approved by the medical director In case of license cancellation please attach the cancellation letter from MOHAP Medical staff in the government sector: A letter of experience from the Department of Human Resources - Ministry of Health and Prevention or Emirates Health',\n",
       " 'A professional license corresponding to the period of work experience A certificate of good professional conduct issued at the same place where the professional license was issued A valid passport Passport and family book for citizens The applicant’s birth certificate and the mother’s family book for children of female citizens For more information, refer to the Handbook of Unified Standards for Practitioners of Health Practitioners Licensing (PQR)',\n",
       " 'experience from the employer Certificate of good conduct Letter of authorization request from the facility Job offer List of doctors and technicians licensed to work in the facility Copy of valid passport Recent passport-size photo with white background Copy of valid residence license Copy of valid Emirates ID card Employment contract Business card Insurance against medical errors',\n",
       " 'certificate will not be issued to those who are not licensed by the Ministry of Health and prevention The customer must be licensed by the Ministry of Health and Prevention for more than 3 months The customer must not have been sentenced for a medical offense or violation that prohibits the issuance of the certificate The certificate is valid for 6 months from the date of issuance Medical staff in the private sector: For the pharmacist or assistant pharmacist: A letter of experience from the employer, certified by the',\n",
       " 'certificate will not be issued to those who are not licensed by the Ministry of Health and prevention The customer must be licensed by the Ministry of Health and Prevention for more than 3 months The customer must not have been sentenced for a medical offense or violation that prohibits the issuance of the certificate The certificate is valid for 6 months from the date of issuance Medical staff in the private sector: For the pharmacist or assistant pharmacist: A letter of experience from the employer, certified by the',\n",
       " 'Documents Medical staff in the private sector: A copy of medical profession practice card (electronic license issued by MOHAP) A copy of a valid passport A copy of a valid passport An experience certificate issued from the private medical facility, approved by the medical director In case of license cancellation please attach the cancellation letter from MOHAP Medical staff in the government sector: A letter of experience from the Department of Human Resources - Ministry of Health and Prevention or Emirates Health',\n",
       " 'a final license (issuance of a new license, re-licensing or transfer of a license), the customer (facility) must submit the required documents to the Ministry of Health and Prevention. 8 The employee concerned will approve the application, provided all conditions are met, and issue the final license. Conditions & Requirements The facility must have a registered nurse for every two doctors employed. A certificate of medical fitness from the Department of Preventive Medicine, if the doctor is 60 years or older. Service',\n",
       " 'Type Variation Related Services This service is not linked to any other services Service Bundle This service is not linked to any bundles Notes Please note that if the applicant works in one of the private outsourcing companies contracting with the Emirates Health Services Corporation, he must apply for a service card to obtain a certificate of good standing and professional conduct in the government sector Required Documents Medical staff in the private sector: A copy of medical profession practice card (electronic',\n",
       " '- PDF 368KB Ministerial Resolution No. 932 of 2012 regarding the health and technical conditions that must be met in private pharmacies (Available in Arabic only) User Manual - Issue 24 Hour Work Permit for Pharmacy Department name Licensing and Accreditation Sector name Health Regulation Main service Medical Establishment Licencing and Registration Service Code 110-03-006-000 Service Classfication Transactional Service Type Government to Business Sub Service Type Variation Related Services This service is not linked to']"
      ]
     },
     "execution_count": 28,
     "metadata": {},
     "output_type": "execute_result"
    }
   ],
   "source": [
    "rag_app.retrieve(\"What are the specific document requirements for private sector medical staff?\")"
   ]
  },
  {
   "cell_type": "code",
   "execution_count": 26,
   "metadata": {},
   "outputs": [
    {
     "data": {
      "text/plain": [
       "'1. Copy of medical profession practice card (electronic license issued by MOHAP)\\n2. Valid passport copy\\n3. Experience certificate from the private medical facility, approved by the medical director\\n4. License cancellation letter from MOHAP (if applicable)\\n'"
      ]
     },
     "execution_count": 26,
     "metadata": {},
     "output_type": "execute_result"
    }
   ],
   "source": [
    "rag_app.query(\"What are the specific document requirements for private sector medical staff?\")"
   ]
  },
  {
   "cell_type": "code",
   "execution_count": null,
   "metadata": {},
   "outputs": [],
   "source": [
    "# import numpy as np\n",
    "# from trulens.core import Feedback\n",
    "# from trulens.core import Select\n",
    "# from trulens.providers.openai import OpenAI\n",
    "\n",
    "# provider = OpenAI(model_engine=\"gpt-4o\", api_key=\"OPEN_AI_EVAL_KEY\")\n",
    "\n",
    "# # Define a groundedness feedback function\n",
    "# f_groundedness = (\n",
    "#     Feedback(\n",
    "#         provider.groundedness_measure_with_cot_reasons, name=\"Groundedness\"\n",
    "#     )\n",
    "#     .on(Select.RecordCalls.retrieve.rets.collect())\n",
    "#     .on_output()\n",
    "# )\n",
    "# # Question/answer relevance between overall question and answer.\n",
    "# f_answer_relevance = (\n",
    "#     Feedback(provider.relevance_with_cot_reasons, name=\"Answer Relevance\")\n",
    "#     .on_input()\n",
    "#     .on_output()\n",
    "# )\n",
    "\n",
    "# # Context relevance between question and each context chunk.\n",
    "# f_context_relevance = (\n",
    "#     Feedback(\n",
    "#         provider.context_relevance_with_cot_reasons, name=\"Context Relevance\"\n",
    "#     )\n",
    "#     .on_input()\n",
    "#     .on(Select.RecordCalls.retrieve.rets[:])\n",
    "#     .aggregate(np.mean)  # choose a different aggregation method if you wish\n",
    "# )"
   ]
  },
  {
   "cell_type": "code",
   "execution_count": null,
   "metadata": {},
   "outputs": [],
   "source": [
    "import numpy as np\n",
    "from trulens.core import Feedback\n",
    "from trulens.core import Select\n",
    "from trulens.providers.openai import OpenAI\n",
    "\n",
    "provider = OpenAI(model_engine=\"gpt-4o\", api_key=os.getenv(\"OPEN_AI_EVAL_KEY\"))\n",
    "\n",
    "# Define a groundedness feedback function\n",
    "f_groundedness = (\n",
    "    Feedback(\n",
    "        provider.groundedness_measure_with_cot_reasons, name=\"Groundedness\"\n",
    "    )\n",
    "    .on(Select.RecordCalls.retrieve.rets.collect())\n",
    "    .on_output()\n",
    ")\n",
    "# Question/answer relevance between overall question and answer.\n",
    "f_answer_relevance = (\n",
    "    Feedback(provider.relevance_with_cot_reasons, name=\"Answer Relevance\")\n",
    "    .on_input()\n",
    "    .on_output()\n",
    ")\n",
    "\n",
    "# Context relevance between question and each context chunk.\n",
    "f_context_relevance = (\n",
    "    Feedback(\n",
    "        provider.context_relevance_with_cot_reasons, name=\"Context Relevance\"\n",
    "    )\n",
    "    .on_input()\n",
    "    .on(Select.RecordCalls.retrieve.rets[:])\n",
    "    .aggregate(np.mean)  # choose a different aggregation method if you wish\n",
    ")"
   ]
  },
  {
   "cell_type": "code",
   "execution_count": null,
   "metadata": {},
   "outputs": [],
   "source": [
    "from trulens.apps.custom import TruCustomApp\n",
    "\n",
    "tru_rag = TruCustomApp(\n",
    "    rag_app,\n",
    "    app_name=\"RAG Gemini\",\n",
    "    app_version=\"Gemini flash\",\n",
    "    feedbacks=[f_groundedness, f_answer_relevance, f_context_relevance],\n",
    ")"
   ]
  },
  {
   "cell_type": "code",
   "execution_count": null,
   "metadata": {},
   "outputs": [],
   "source": [
    "HardQuestions=[{\n",
    "    \"question\": \"What specific condition must be met for a health facility to be eligible to apply for narcotic drug quotas from MOHAP's central warehouses?\",\n",
    "    \"answer\": \"The facility must submit an official letter from the technical director, detailing the types, quantities, concentrations of narcotic drugs required, and the number of hospital beds and operations performed.\",\n",
    "    \"context\": \"This service allows hospitals and one-day surgery centers to apply for narcotic drug quotas for use within the facility.\",\n",
    "    \"source\": \"https://mohap.gov.ae/en/services/approve-narcotic-drugs-for-internal-pharmacies-at-private-hospitals\"\n",
    "  },\n",
    "  {\n",
    "    \"question\": \"How many beds must a hospital have before it can apply for the higher licensing fees of AED 30,000 for MOHAP approval?\",\n",
    "    \"answer\": \"Hospitals with 50 to 100 beds must pay AED 30,000 for final licensing fees.\",\n",
    "    \"context\": \"This fee applies to hospitals with a specific number of beds when applying for final licensing approval from MOHAP.\",\n",
    "    \"source\": \"https://mohap.gov.ae/en/services/licensing-of-private-medical-facilities\"\n",
    "  },\n",
    "  {\n",
    "    \"question\": \"Which specific document must be completed at the Customer Happiness Centers by the owner of a healthcare facility applying for licensing?\",\n",
    "    \"answer\": \"The owner must complete a character reference document, which is available at the Customer Happiness Centers.\",\n",
    "    \"context\": \"This service requires a character reference for licensing a healthcare facility under MOHAP regulations.\",\n",
    "    \"source\": \"https://mohap.gov.ae/en/services/licensing-of-private-medical-facilities\"\n",
    "  },\n",
    "  {\n",
    "    \"question\": \"What is the exact document required from the Department of Economic Development for the final approval of a medical facility license?\",\n",
    "    \"answer\": \"A trade license issued by the Department of Economic Development is required for the final approval of a medical facility license.\",\n",
    "    \"context\": \"This document is part of the final approval process for healthcare facilities applying for a license under MOHAP.\",\n",
    "    \"source\": \"https://mohap.gov.ae/en/services/licensing-of-private-medical-facilities\"\n",
    "  },\n",
    "  {\n",
    "    \"question\": \"What is the specific service classification for the 'Appeal Against Medical Licensing Committee Decisions' service?\",\n",
    "    \"answer\": \"The service classification for this appeal is 'Transactional' and the service type is 'Government to Business'.\",\n",
    "    \"context\": \"This service allows businesses and professionals to appeal decisions made by the Medical Licensing Committee.\",\n",
    "    \"source\": \"https://mohap.gov.ae/en/services/appeal-against-medical-licensing-committee-decisions\"\n",
    "  },\n",
    "  {\n",
    "    \"question\": \"What is the minimum number of days it takes to receive engineering team approval after submitting a request for health facility inspection?\",\n",
    "    \"answer\": \"It takes a minimum of 2 working days to receive engineering team approval after submitting an inspection request.\",\n",
    "    \"context\": \"This service involves inspecting the facility before approval is granted for licensing.\",\n",
    "    \"source\": \"https://mohap.gov.ae/en/services/licensing-of-private-medical-facilities\"\n",
    "  },\n",
    "  {\n",
    "    \"question\": \"Which exact document must include the names of all licensed doctors and technicians within a healthcare facility when applying for a visiting doctor license?\",\n",
    "    \"answer\": \"A list of licensed doctors and technicians in the facility must be included when applying for a visiting doctor license.\",\n",
    "    \"context\": \"This is required when applying for the service allowing a visiting doctor to practice at a private healthcare facility.\",\n",
    "    \"source\": \"https://mohap.gov.ae/en/services/licensing-of-a-visiting-doctor-from-the-uae\"\n",
    "  },\n",
    "  {\n",
    "    \"question\": \"What is the exact fee for re-verifying a geometric site plan for a general clinic or medical center?\",\n",
    "    \"answer\": \"The fee for re-verifying a geometric site plan for a general clinic or medical center is AED 500.\",\n",
    "    \"context\": \"This service requires a fee for re-verifying geometric site plans during the healthcare facility licensing process.\",\n",
    "    \"source\": \"https://mohap.gov.ae/en/services/licensing-of-private-medical-facilities\"\n",
    "  },\n",
    "  {\n",
    "    \"question\": \"What specific exclusion applies to the issuance of a good professional conduct certificate for health professionals?\",\n",
    "    \"answer\": \"A good professional conduct certificate will not be issued to those who have only an initial license from the Ministry of Health and Prevention.\",\n",
    "    \"context\": \"This service issues good professional conduct certificates to licensed health professionals in the UAE.\",\n",
    "    \"source\": \"https://mohap.gov.ae/en/services/issue-of-good-professional-conduct-certificates-for-health-professional\"\n",
    "  },\n",
    "  {\n",
    "    \"question\": \"What exact documentation must be submitted if a health professional’s license has been canceled and they are applying for a good standing certificate?\",\n",
    "    \"answer\": \"A license cancellation letter from MOHAP must be submitted when applying for a good standing certificate after license cancellation.\",\n",
    "    \"context\": \"This service provides good standing certificates for health professionals who have held MOHAP licenses.\",\n",
    "    \"source\": \"https://mohap.gov.ae/en/services/issue-of-good-professional-conduct-certificates-for-health-professional\"\n",
    "  },\n",
    "  {\n",
    "    \"question\": \"What is the maximum number of specialties a diagnostic center can add before incurring only AED 100 per additional specialty?\",\n",
    "    \"answer\": \"A diagnostic center can add up to 3 specialties before incurring AED 100 per additional specialty.\",\n",
    "    \"context\": \"This service allows diagnostic centers to add new specialties, with specific fee structures depending on the number of specialties.\",\n",
    "    \"source\": \"https://mohap.gov.ae/en/services/adding-a-new-specialty-to-private-health-facilities\"\n",
    "  },\n",
    "  {\n",
    "    \"question\": \"For how long is the initial approval of a medical facility’s license valid, and what does it allow the owner to do?\",\n",
    "    \"answer\": \"The initial approval is valid for 6 months and allows the owner to meet the technical requirements for obtaining a MOHAP license but does not permit the facility to practice or operate.\",\n",
    "    \"context\": \"The initial approval grants time for the facility to complete technical requirements, but does not authorize operation.\",\n",
    "    \"source\": \"https://mohap.gov.ae/en/services/licensing-of-private-medical-facilities\"\n",
    "  },\n",
    "  {\n",
    "    \"question\": \"What specific document must be signed by the supervising pharmacist or doctor when applying for approval to modify narcotic drugs quotas?\",\n",
    "    \"answer\": \"Form F6, 'Approval/Determination or Modification of Quotas of the Drugs,' must be signed by the supervising pharmacist or doctor.\",\n",
    "    \"context\": \"This service allows hospitals and one-day surgery clinics to modify narcotic drug quotas for internal pharmacies.\",\n",
    "    \"source\": \"https://mohap.gov.ae/en/services/approve-narcotic-drugs-for-internal-pharmacies-at-private-hospitals\"\n",
    "  },\n",
    "  {\n",
    "    \"question\": \"How many transactions were processed for the service 'Approve Narcotic Drugs for Internal Pharmacies at Private Hospitals' according to MOHAP records?\",\n",
    "    \"answer\": \"There were 8 transactions processed for this service according to MOHAP records.\",\n",
    "    \"context\": \"This service allows hospitals and day surgery centers to apply for approval to purchase narcotic drugs.\",\n",
    "    \"source\": \"https://mohap.gov.ae/en/services/approve-narcotic-drugs-for-internal-pharmacies-at-private-hospitals\"\n",
    "  },\n",
    "  {\n",
    "    \"question\": \"What is the exact timeframe for submitting an appeal against a Medical Licensing Committee decision after receiving the decision?\",\n",
    "    \"answer\": \"An appeal must be submitted within 15 days from the date of receiving the decision.\",\n",
    "    \"context\": \"This service allows healthcare professionals and establishments to appeal against decisions made by the Medical Licensing Committee.\",\n",
    "    \"source\": \"https://mohap.gov.ae/en/services/appeal-against-medical-licensing-committee-decisions\"\n",
    "  },\n",
    "  {\n",
    "    \"question\": \"Which document must be presented at the General Directorate of Residency and Foreigners’ Affairs if parents choose to collect the newborn’s documents through the 'Mabrouk Ma Yak' service in person?\",\n",
    "    \"answer\": \"Parents must present the original family data at the General Directorate of Residency and Foreigners’ Affairs when collecting the newborn’s documents.\",\n",
    "    \"context\": \"'Mabrouk Ma Yak' provides newborn Emiratis with multiple identification documents, including options for collection and delivery.\",\n",
    "    \"source\": \"https://mohap.gov.ae/en/about-us/projects-and-initiatives/mabrouk-ma-yak\"\n",
    "  },\n",
    "  {\n",
    "    \"question\": \"What are the exact conditions under which a good professional conduct certificate cannot be issued to a health professional?\",\n",
    "    \"answer\": \"A good professional conduct certificate cannot be issued to a trainee, a visitor, someone with an initial license, or anyone not licensed by the Ministry of Health and Prevention.\",\n",
    "    \"context\": \"This service provides good professional conduct certificates for health professionals under specific conditions.\",\n",
    "    \"source\": \"https://mohap.gov.ae/en/services/issue-of-good-professional-conduct-certificates-for-health-professional\"\n",
    "  },\n",
    "  {\n",
    "    \"question\": \"What is the service classification and service type for 'Registration of a Medical Equipment' under MOHAP?\",\n",
    "    \"answer\": \"The service classification is 'Transactional' and the service type is 'Government to Business.'\",\n",
    "    \"context\": \"This service allows businesses to register medical equipment for use in healthcare facilities.\",\n",
    "    \"source\": \"https://mohap.gov.ae/en/services/registration-of-a-medical-equipment\"\n",
    "  },\n",
    "  {\n",
    "    \"question\": \"Which regulatory entity must issue a radiation protection license for healthcare facilities in the UAE?\",\n",
    "    \"answer\": \"The Federal Authority for Nuclear Regulation must issue the radiation protection license.\",\n",
    "    \"context\": \"Healthcare facilities requiring radiation services must obtain a license from the Federal Authority for Nuclear Regulation.\",\n",
    "    \"source\": \"https://mohap.gov.ae/en/services/licensing-of-private-medical-facilities\"\n",
    "  },\n",
    "  {\n",
    "    \"question\": \"What is the email address for submitting inquiries about controlled chemicals to MOHAP?\",\n",
    "    \"answer\": \"The email address is controlledchemicals@mohap.gov.ae.\",\n",
    "    \"context\": \"This contact information is provided for inquiries related to the regulation of anesthetic drugs and chemical precursors.\",\n",
    "    \"source\": \"https://mohap.gov.ae/en/services/provide-controlled-drugs-prescription-book\"\n",
    "  }]"
   ]
  },
  {
   "cell_type": "code",
   "execution_count": null,
   "metadata": {},
   "outputs": [],
   "source": [
    "with tru_rag as recording:\n",
    "    for eval in HardQuestions[11:21]:\n",
    "        rag_app.query(\n",
    "        eval[\"question\"]\n",
    "    )\n",
    "\n"
   ]
  },
  {
   "cell_type": "code",
   "execution_count": null,
   "metadata": {},
   "outputs": [],
   "source": [
    "from trulens.dashboard import run_dashboard\n",
    "\n",
    "run_dashboard(session)"
   ]
  },
  {
   "cell_type": "code",
   "execution_count": null,
   "metadata": {},
   "outputs": [],
   "source": []
  }
 ],
 "metadata": {
  "kernelspec": {
   "display_name": ".venv",
   "language": "python",
   "name": "python3"
  },
  "language_info": {
   "codemirror_mode": {
    "name": "ipython",
    "version": 3
   },
   "file_extension": ".py",
   "mimetype": "text/x-python",
   "name": "python",
   "nbconvert_exporter": "python",
   "pygments_lexer": "ipython3",
   "version": "3.12.7"
  }
 },
 "nbformat": 4,
 "nbformat_minor": 2
}
