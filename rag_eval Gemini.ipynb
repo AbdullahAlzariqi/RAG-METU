{
 "cells": [
  {
   "cell_type": "code",
   "execution_count": 48,
   "metadata": {},
   "outputs": [],
   "source": [
    "import os\n",
    "from typing import List, Dict\n",
    "from trulens.apps.custom import TruCustomApp\n",
    "from trulens.core import TruSession\n",
    "from trulens.core import Feedback\n",
    "from trulens.providers.openai import OpenAI\n",
    "from dotenv import load_dotenv\n",
    "import google.generativeai as genai\n",
    "from trulens.apps.custom import instrument\n",
    "\n"
   ]
  },
  {
   "cell_type": "code",
   "execution_count": 49,
   "metadata": {},
   "outputs": [
    {
     "data": {
      "text/plain": [
       "True"
      ]
     },
     "execution_count": 49,
     "metadata": {},
     "output_type": "execute_result"
    }
   ],
   "source": [
    "load_dotenv()"
   ]
  },
  {
   "cell_type": "code",
   "execution_count": 50,
   "metadata": {},
   "outputs": [],
   "source": [
    "from trulens.core import TruSession\n",
    "\n",
    "\n",
    "session = TruSession()\n"
   ]
  },
  {
   "cell_type": "code",
   "execution_count": 51,
   "metadata": {},
   "outputs": [],
   "source": [
    "# pip install pinecone[grpc]\n",
    "from pinecone.grpc import PineconeGRPC as Pinecone\n",
    "\n",
    "\n",
    "pc = Pinecone(api_key=os.getenv(\"PINECONE_API_KEY\"))\n",
    "index = pc.Index(\"gemini-test\")"
   ]
  },
  {
   "cell_type": "code",
   "execution_count": 52,
   "metadata": {},
   "outputs": [],
   "source": [
    "\n",
    "\n",
    "genai.configure(api_key=os.getenv(\"GEMINI_API_KEY\"))"
   ]
  },
  {
   "cell_type": "code",
   "execution_count": 53,
   "metadata": {},
   "outputs": [],
   "source": [
    "embed = genai.embed_content\n",
    "embed_model_name = \"models/text-embedding-004\"\n",
    "task_type=\"retrieval_document\""
   ]
  },
  {
   "cell_type": "code",
   "execution_count": 54,
   "metadata": {},
   "outputs": [
    {
     "name": "stdout",
     "output_type": "stream",
     "text": [
      "models/gemini-1.0-pro-latest\n",
      "models/gemini-1.0-pro\n",
      "models/gemini-pro\n",
      "models/gemini-1.0-pro-001\n",
      "models/gemini-1.0-pro-vision-latest\n",
      "models/gemini-pro-vision\n",
      "models/gemini-1.5-pro-latest\n",
      "models/gemini-1.5-pro-001\n",
      "models/gemini-1.5-pro-002\n",
      "models/gemini-1.5-pro\n",
      "models/gemini-1.5-pro-exp-0801\n",
      "models/gemini-1.5-pro-exp-0827\n",
      "models/gemini-1.5-flash-latest\n",
      "models/gemini-1.5-flash-001\n",
      "models/gemini-1.5-flash-001-tuning\n",
      "models/gemini-1.5-flash\n",
      "models/gemini-1.5-flash-exp-0827\n",
      "models/gemini-1.5-flash-002\n",
      "models/gemini-1.5-flash-8b\n",
      "models/gemini-1.5-flash-8b-001\n",
      "models/gemini-1.5-flash-8b-latest\n",
      "models/gemini-1.5-flash-8b-exp-0827\n",
      "models/gemini-1.5-flash-8b-exp-0924\n"
     ]
    }
   ],
   "source": [
    "for m in genai.list_models():\n",
    "    if \"generateContent\" in m.supported_generation_methods:\n",
    "        print(m.name)"
   ]
  },
  {
   "cell_type": "code",
   "execution_count": 55,
   "metadata": {},
   "outputs": [],
   "source": [
    "prompt =\"Given the provided context, generate a response that is accurate, concise, and strictly aligned with the information retrieved. Ensure the response does not include hallucinations, speculations, or unsupported claims. The response should be neutral, fact-based, and respectful, especially when addressing sensitive or ambiguous topics. If the context provided is insufficient, clearly state that more information is needed. Prioritize safety and relevance, and avoid generating offensive or harmful content.\""
   ]
  },
  {
   "cell_type": "code",
   "execution_count": 56,
   "metadata": {},
   "outputs": [],
   "source": [
    "llm = genai.GenerativeModel(\"models/gemini-1.5-flash-002\",\n",
    "                            system_instruction=prompt)\n"
   ]
  },
  {
   "cell_type": "code",
   "execution_count": 57,
   "metadata": {},
   "outputs": [],
   "source": [
    "class retriever:\n",
    "        def __init__(self, embed, embed_model_name, index):\n",
    "             self.embed = embed\n",
    "             self.embed_model_name = embed_model_name\n",
    "             self.index = index\n",
    "        def get_data(self,query):\n",
    "            embedding=self.embed(\n",
    "            model=self.embed_model_name,\n",
    "            task_type=task_type,\n",
    "            content= query)[\"embedding\"]\n",
    "\n",
    "            vecs = self.index.query(\n",
    "            vector=embedding,\n",
    "            top_k=3,\n",
    "            includeMetadata=True,\n",
    "            include_values=True\n",
    "        )[\"matches\"]\n",
    "            ids=[] \n",
    "            for match in vecs:\n",
    "                ids.append(match.id)\n",
    "            data = self.index.fetch(ids)\n",
    "            docs = []\n",
    "            for key in data[\"vectors\"]:\n",
    "                docs.append(data[\"vectors\"][key][\"metadata\"][\"text\"])\n",
    "            return docs\n",
    "\n"
   ]
  },
  {
   "cell_type": "code",
   "execution_count": null,
   "metadata": {},
   "outputs": [],
   "source": []
  },
  {
   "cell_type": "code",
   "execution_count": 58,
   "metadata": {},
   "outputs": [],
   "source": [
    "class generate:\n",
    "    def __init__(self, llm):\n",
    "        self.llm = llm\n",
    "    \n",
    "    def generate(self, query, context):\n",
    "        formatted_context = \"\\n\".join([str(doc) for doc in context])\n",
    "        response = self.llm.generate_content(query + formatted_context).text\n",
    "        return response\n",
    "        "
   ]
  },
  {
   "cell_type": "code",
   "execution_count": 59,
   "metadata": {},
   "outputs": [],
   "source": [
    "ret = retriever(embed, embed_model_name, index)\n"
   ]
  },
  {
   "cell_type": "code",
   "execution_count": 60,
   "metadata": {},
   "outputs": [],
   "source": [
    "class rag_gemini:\n",
    "    def __init__(self,llm,retriever):\n",
    "        self.retriever = retriever\n",
    "        self.llm=llm\n",
    "    @instrument\n",
    "    def retrieve(self, query: str) -> List[str]:\n",
    "        \"\"\"\n",
    "        Method to handle document retrieval.\n",
    "        IMPORTANT: The method name 'retrieve' will be used in selectors\n",
    "        \"\"\"\n",
    "        documents = self.retriever.get_data(query)\n",
    "        return documents\n",
    "    \n",
    "    @instrument\n",
    "    def generate(self, query: str, context: List[str]) -> str:\n",
    "        \"\"\"\n",
    "        Method to handle response generation.\n",
    "        IMPORTANT: The method name 'generate' will be used in selectors\n",
    "        \"\"\"\n",
    "        formatted_context = \"\\n\".join([str(doc) for doc in context])\n",
    "        response = self.llm.generate_content(query + formatted_context).text\n",
    "        return response\n",
    "    \n",
    "    @instrument\n",
    "    def query(self, question: str) -> Dict:\n",
    "        \"\"\"\n",
    "        Main method that orchestrates the RAG pipeline.\n",
    "        IMPORTANT: Return keys must match selector paths\n",
    "        \"\"\"\n",
    "        context = self.retrieve(question)\n",
    "        response = self.generate(question, context)\n",
    "        \n",
    "        return response"
   ]
  },
  {
   "cell_type": "code",
   "execution_count": 61,
   "metadata": {},
   "outputs": [],
   "source": [
    "rag_app = rag_gemini(llm, ret)"
   ]
  },
  {
   "cell_type": "code",
   "execution_count": 62,
   "metadata": {},
   "outputs": [
    {
     "data": {
      "text/plain": [
       "[]"
      ]
     },
     "execution_count": 62,
     "metadata": {},
     "output_type": "execute_result"
    }
   ],
   "source": [
    "rag_app.retrieve(\"Who is the audience for good standing certificate?\")"
   ]
  },
  {
   "cell_type": "code",
   "execution_count": 63,
   "metadata": {},
   "outputs": [
    {
     "data": {
      "text/plain": [
       "'More information is needed.  A \"good standing certificate\" can refer to many different things depending on the context (e.g., a company, a professional organization, a school).  Please specify what type of organization or entity issued the certificate.\\n'"
      ]
     },
     "execution_count": 63,
     "metadata": {},
     "output_type": "execute_result"
    }
   ],
   "source": [
    "rag_app.query(\"Who is the audience for good standing certificate?\")"
   ]
  },
  {
   "cell_type": "code",
   "execution_count": null,
   "metadata": {},
   "outputs": [],
   "source": []
  },
  {
   "cell_type": "code",
   "execution_count": 64,
   "metadata": {},
   "outputs": [],
   "source": [
    "# import numpy as np\n",
    "# from trulens.core import Feedback\n",
    "# from trulens.core import Select\n",
    "# from trulens.providers.openai import OpenAI\n",
    "\n",
    "# provider = OpenAI(model_engine=\"gpt-4o\", api_key=\"OPEN_AI_EVAL_KEY\")\n",
    "\n",
    "# # Define a groundedness feedback function\n",
    "# f_groundedness = (\n",
    "#     Feedback(\n",
    "#         provider.groundedness_measure_with_cot_reasons, name=\"Groundedness\"\n",
    "#     )\n",
    "#     .on(Select.RecordCalls.retrieve.rets.collect())\n",
    "#     .on_output()\n",
    "# )\n",
    "# # Question/answer relevance between overall question and answer.\n",
    "# f_answer_relevance = (\n",
    "#     Feedback(provider.relevance_with_cot_reasons, name=\"Answer Relevance\")\n",
    "#     .on_input()\n",
    "#     .on_output()\n",
    "# )\n",
    "\n",
    "# # Context relevance between question and each context chunk.\n",
    "# f_context_relevance = (\n",
    "#     Feedback(\n",
    "#         provider.context_relevance_with_cot_reasons, name=\"Context Relevance\"\n",
    "#     )\n",
    "#     .on_input()\n",
    "#     .on(Select.RecordCalls.retrieve.rets[:])\n",
    "#     .aggregate(np.mean)  # choose a different aggregation method if you wish\n",
    "# )"
   ]
  },
  {
   "cell_type": "code",
   "execution_count": 65,
   "metadata": {},
   "outputs": [
    {
     "name": "stdout",
     "output_type": "stream",
     "text": [
      "✅ In Groundedness, input source will be set to __record__.app.retrieve.rets.collect() .\n",
      "✅ In Groundedness, input statement will be set to __record__.main_output or `Select.RecordOutput` .\n",
      "✅ In Answer Relevance, input prompt will be set to __record__.main_input or `Select.RecordInput` .\n",
      "✅ In Answer Relevance, input response will be set to __record__.main_output or `Select.RecordOutput` .\n",
      "✅ In Context Relevance, input question will be set to __record__.main_input or `Select.RecordInput` .\n",
      "✅ In Context Relevance, input context will be set to __record__.app.retrieve.rets[:] .\n"
     ]
    }
   ],
   "source": [
    "import numpy as np\n",
    "from trulens.core import Feedback\n",
    "from trulens.core import Select\n",
    "from trulens.providers.langchain import Langchain\n",
    "from langchain_google_genai import ChatGoogleGenerativeAI\n",
    "\n",
    "llm = ChatGoogleGenerativeAI(api_key=os.getenv(\"GEMINI_API_KEY\")  ,model=\"gemini-1.5-flash-002\")\n",
    "\n",
    "provider = Langchain(chain = llm)\n",
    "\n",
    "# Define a groundedness feedback function\n",
    "f_groundedness = (\n",
    "    Feedback(\n",
    "        provider.groundedness_measure_with_cot_reasons, name=\"Groundedness\"\n",
    "    )\n",
    "    .on(Select.RecordCalls.retrieve.rets.collect())\n",
    "    .on_output()\n",
    ")\n",
    "# Question/answer relevance between overall question and answer.\n",
    "f_answer_relevance = (\n",
    "    Feedback(provider.relevance_with_cot_reasons, name=\"Answer Relevance\")\n",
    "    .on_input()\n",
    "    .on_output()\n",
    ")\n",
    "\n",
    "# Context relevance between question and each context chunk.\n",
    "f_context_relevance = (\n",
    "    Feedback(\n",
    "        provider.context_relevance_with_cot_reasons, name=\"Context Relevance\"\n",
    "    )\n",
    "    .on_input()\n",
    "    .on(Select.RecordCalls.retrieve.rets[:])\n",
    "    .aggregate(np.mean)  # choose a different aggregation method if you wish\n",
    ")"
   ]
  },
  {
   "cell_type": "code",
   "execution_count": 66,
   "metadata": {},
   "outputs": [],
   "source": [
    "from trulens.apps.custom import TruCustomApp\n",
    "from trulens.core.utils.serial import Lens\n",
    "\n",
    "\n",
    "tru_rag = TruCustomApp(\n",
    "    rag_app,\n",
    "      methods_to_instrument={\n",
    "        rag_app.generate: Lens().app.generate,\n",
    "        rag_app.retrieve: Lens().app.retrieve,\n",
    "        rag_app.query: Lens().app.query\n",
    "    },\n",
    "            app_name=\"RAG Gemini\",\n",
    "    app_version=\"Gemini Pro\",\n",
    "    feedbacks=[f_groundedness, f_answer_relevance, f_context_relevance],\n",
    ")"
   ]
  },
  {
   "cell_type": "code",
   "execution_count": 67,
   "metadata": {},
   "outputs": [],
   "source": [
    "HardQuestions=[\n",
    "  {\n",
    "    \"question\": \"If a visiting foreign doctor wants to work in two UAE medical facilities and needs controlled drugs prescription books, what is the total cost they would need to pay for both licensing and obtaining the prescription books?\",\n",
    "    \"answer\": \"The total cost for a visiting doctor working in two facilities with controlled drugs prescription books would be AED 3,300. This comprises a visiting doctor license fee of AED 3,100 (including AED 100 application fee and AED 3,000 license fee) plus AED 200 for two controlled drugs prescription books (AED 100 each).\"\n",
    "  },\n",
    "  {\n",
    "    \"question\": \"A new private hospital with 75 beds wants to hire a visiting doctor from outside UAE for a year and set up a 24-hour pharmacy service. What would be the total initial licensing costs for all these services, including the hospital license?\",\n",
    "    \"answer\": \"For a new private hospital with 75 beds, hiring a visiting doctor and setting up 24-hour pharmacy service, the total initial licensing costs would amount to AED 39,300. This includes AED 30,000 for the hospital license (50-100 beds category), AED 100 application fee, AED 3,100 for the visiting doctor (AED 100 application + AED 3,000 license), and AED 6,100 for 24-hour pharmacy service (AED 100 application + AED 6,000 annual permit).\"\n",
    "  },\n",
    "  {\n",
    "    \"question\": \"A medical facility wants to register a conventional pharmaceutical product and later modify its dosage. What would be the total timeline and fees involved in both processes?\",\n",
    "    \"answer\": \"For registering and modifying a conventional pharmaceutical product, the total timeline would be 67 working days (45 days for initial registration plus 22 days for modification). The total fees would be AED 11,600, broken down as AED 10,600 for initial registration (AED 100 application + AED 7,000 registration + AED 3,500 analysis) and AED 1,000 for modification.\"\n",
    "  },\n",
    "  {\n",
    "    \"question\": \"If a pharmaceutical facility wants to change both its location and name in Dubai Healthcare City, what approvals would they need and what is the total cost for both changes?\",\n",
    "    \"answer\": \"For a pharmaceutical facility changing both location and name in Dubai Healthcare City, the total cost would be AED 2,200. This requires approvals from MOHAP, Dubai Healthcare City Authority, and Department of Economic Development. The cost breaks down as AED 1,100 for location change (AED 100 application + AED 1,000 fee) and AED 1,100 for name change (AED 100 application + AED 1,000 fee).\"\n",
    "  },\n",
    "  {\n",
    "    \"question\": \"For a medical facility that wants to add three new specialties and extend to 24-hour service, what would be the complete workflow and total costs?\",\n",
    "    \"answer\": \"Adding three new specialties and extending to 24-hour service would cost AED 24,200 total. The process takes approximately 2 working days for each specialty addition and 3 days for 24-hour service approval. The cost includes AED 18,000 for three specialties (AED 6,000 each), AED 100 application fee, and AED 6,100 for 24-hour service (AED 100 application + AED 6,000 annual fee).\"\n",
    "  },\n",
    "  {\n",
    "    \"question\": \"A new specialist clinic wants to start operations in UAE with initial clinic licensing, 24-hour pharmacy service, controlled drugs prescription book, and two visiting doctors from outside UAE. What would be the total initial cost?\",\n",
    "    \"answer\": \"For a new specialist clinic starting operations with initial licensing, 24-hour pharmacy service, controlled drugs prescription book, and two visiting doctors, the total initial cost would be AED 18,500. This includes AED 6,100 for initial clinic license (AED 100 + AED 6,000), AED 6,100 for 24-hour pharmacy (AED 100 + AED 6,000), AED 100 for controlled drugs book, and AED 6,200 for two visiting doctors (AED 200 applications + AED 6,000 licenses).\"\n",
    "  },\n",
    "  {\n",
    "    \"question\": \"A pharmaceutical facility needs to renew its registration of a conventional pharmaceutical product, change its location, and get approval for narcotic drugs quotas. What is the total timeline and fees?\",\n",
    "    \"answer\": \"A pharmaceutical facility renewing registration, changing location, and getting narcotic drugs quota approval would take 11-12 working days total and cost AED 4,800. This comprises AED 3,600 for product registration renewal, AED 1,100 for location change, and AED 100 for narcotic quotas.\"\n",
    "  },\n",
    "  {\n",
    "    \"question\": \"If a medical facility wants to add a new specialty and hire a visiting doctor for it, what documents would be needed and what is the maximum timeline?\",\n",
    "    \"answer\": \"Adding a new specialty and hiring a visiting doctor would take 7 working days total and cost AED 9,200. Required documents include a request letter and list of licensed staff for the specialty addition, plus job offer, license copy, facility plan, insurance, and undertaking letter for the visiting doctor.\"\n",
    "  },\n",
    "  {\n",
    "    \"question\": \"A hospital with 120 beds wants to renew its license, get approval for controlled drugs, and set up a 24-hour pharmacy service. What would be the annual cost and required approvals?\",\n",
    "    \"answer\": \"For a 120-bed hospital renewing its license, getting controlled drugs approval, and setting up 24-hour pharmacy service, the annual cost would be AED 46,300. This includes AED 40,100 for hospital renewal, AED 100 for controlled drugs, and AED 6,100 for 24-hour pharmacy. Required approvals include MOHAP license, Civil Defense, Economic Department, Drug Department, and waste management certification.\"\n",
    "  },\n",
    "  {\n",
    "    \"question\": \"What is the complete process and total cost for a medical facility that wants to change location, modify pharmaceutical product registration data, and get a good manufacturing practice certificate?\",\n",
    "    \"answer\": \"he process of changing location, modifying pharmaceutical product registration data, and getting a good manufacturing practice certificate would take 32-38 working days total. The base cost would be AED 7,100 (AED 4,100 for location change, AED 1,000 for registration modification, plus AED 2,000 per production line for the GMP certificate).\"\n",
    "  },\n",
    "  {\n",
    "    \"question\": \"If a new pharmaceutical facility wants to export a batch of locally manufactured narcotic drugs, what steps are necessary for compliance, and does the facility require any additional permits or documentation?\",\n",
    "    \"answer\": \"To export locally manufactured narcotic drugs, the facility must: 1. Initial Licensing: Be registered and licensed by MOHAP as a medical warehouse or manufacturer. 2. Narcotics Quota Approval: Submit Form F6 detailing quantities and types for an annual narcotics quota. 3. Export Permit: Apply for an export permit for narcotics with documentation of the approved quota. 4. Certificate of Pharmaceutical Product (CPP): Obtain this certification from MOHAP confirming the product meets UAE standards for export. 5. Verification of Destination Compliance: Check if the destination country accepts UAE’s drug export certifications.\"\n",
    "  },\n",
    "  {\n",
    "    \"question\": \"If a private clinic in the UAE wishes to change its name and simultaneously add a new specialty to its services, what are the procedural requirements and necessary documents for compliance with MOHAP regulations?\",\n",
    "    \"answer\": \"For a clinic to change its name and add a specialty, it must: 1. Change of Name: Apply through MOHAP with existing license, owner’s request letter, and updated trade license; the clinic must have been operational for at least six months. 2. Adding a Specialty: Submit a separate application specifying the new specialty and provide a list of relevant medical staff. 3. Verification: MOHAP will review both applications for compliance. 4. Approval: Upon approval, the clinic receives updated licenses electronically.\"\n",
    "  },\n",
    "  {\n",
    "    \"question\": \"If I am appealing a decision regarding my medical licensing, how do I also apply for a renewal of my license to practice as a doctor?\",\n",
    "    \"answer\": \"To appeal a medical licensing decision, submit an appeal to the Office of the Minister of Health and Prevention within 15 days of receiving the decision. Simultaneously, to renew a license to practice as a doctor, log in to the MOHAP website, fill in the required information, attach necessary documents, and pay the renewal fee, ensuring compliance with continuous medical education requirements.\"\n",
    "  },\n",
    "  {\n",
    "    \"question\": \"What is the process for appealing a healthcare advertisement violation and subsequently updating the healthcare advertisement license for the same institution?\",\n",
    "    \"answer\": \"To appeal a healthcare advertisement violation, submit an appeal to the relevant authority outlining the reasons for the appeal. After addressing the appeal, if necessary, update the healthcare advertisement license by logging into the MOHAP system, completing the renewal form, and providing any additional documents or amendments required, alongside the application fee for the updated advertisement license.\"\n",
    "  },\n",
    "  {\n",
    "    \"question\": \"What are the requirements to renew a healthcare advertisement license in a medical directory, and how does the facility confirm the validity of its primary license before applying?\",\n",
    "    \"answer\": \"The facility must submit a renewal application for the healthcare advertisement license through the MOHAP website, attaching the necessary documentation and paying the application fee. To confirm the validity of its primary license, the facility must check its licensing status on the MOHAP system or contact the MOHAP support to ensure all current licenses are valid and compliant with regulatory requirements.\"\n",
    "  },\n",
    "  {\n",
    "    \"question\": \"What is required to renew a pharmacist's license, and how does one also obtain an updated continuous education record for this renewal?\",\n",
    "    \"answer\": \"To renew a pharmacist's license, applicants must log in to the MOHAP website, provide the required documentation, and pay the renewal fee. They must also ensure that they have completed the necessary hours of continuous medical education (CME), which can be documented through participation in approved training programs or courses. A summary of CME hours completed must be attached to the renewal application.\"\n",
    "  },\n",
    "  {\n",
    "    \"question\": \"What is the process to register medical equipment, and how can a company later apply for renewal of the registration for continued sales in UAE?\",\n",
    "    \"answer\": \"To register medical equipment, the company must apply through the MOHAP website, submitting documentation such as the ISO certification and product details. The approval process typically takes about 45 working days. To renew the registration, the company must resubmit the original registration certificate along with any required updated documents and ensure compliance with current regulations, which can be done online through MOHAP's electronic service system.\"\n",
    "  },\n",
    "  {\n",
    "    \"question\": \"How can a complaint be lodged against a private health facility, and what are the follow-up requirements if the facility’s professional licenses are revoked due to the complaint?\",\n",
    "    \"answer\": \"Complaints against private health facilities can be submitted online via the MOHAP website or through customer service centers. If a facility’s professional licenses are revoked as a result of the complaint, follow-up may include reapplication for licenses, meeting additional compliance measures set by MOHAP, and undergoing inspections or assessments to ensure adherence to health regulations before being allowed to operate again.\"\n",
    "  }\n",
    "]"
   ]
  },
  {
   "cell_type": "code",
   "execution_count": 68,
   "metadata": {},
   "outputs": [],
   "source": [
    "from trulens.core.utils.pace import Pace\n",
    "\n",
    "# Define your desired pacing rate\n",
    "pace = Pace(marks_per_second=0.5, seconds_per_period=30.0)"
   ]
  },
  {
   "cell_type": "code",
   "execution_count": 69,
   "metadata": {},
   "outputs": [
    {
     "name": "stdout",
     "output_type": "stream",
     "text": [
      "If a visiting foreign doctor wants to work in two UAE medical facilities and needs controlled drugs prescription books, what is the total cost they would need to pay for both licensing and obtaining the prescription books?\n",
      "A new private hospital with 75 beds wants to hire a visiting doctor from outside UAE for a year and set up a 24-hour pharmacy service. What would be the total initial licensing costs for all these services, including the hospital license?\n"
     ]
    },
    {
     "name": "stderr",
     "output_type": "stream",
     "text": [
      "/Users/abdullah/Documents/RAG_test/.venv/lib/python3.12/site-packages/trulens/core/feedback/feedback.py:974: UserWarning: Feedback function Context Relevance with aggregation <function mean at 0x10c2b77e0> had no inputs.\n",
      "  warnings.warn(\n",
      "/Users/abdullah/Documents/RAG_test/.venv/lib/python3.12/site-packages/trulens/feedback/llm_provider.py:1484: UserWarning: Failed to process and remove trivial statements. Proceeding with all statements.\n",
      "  warnings.warn(\n"
     ]
    },
    {
     "name": "stdout",
     "output_type": "stream",
     "text": [
      "A medical facility wants to register a conventional pharmaceutical product and later modify its dosage. What would be the total timeline and fees involved in both processes?\n"
     ]
    },
    {
     "name": "stderr",
     "output_type": "stream",
     "text": [
      "/Users/abdullah/Documents/RAG_test/.venv/lib/python3.12/site-packages/trulens/core/feedback/feedback.py:974: UserWarning: Feedback function Context Relevance with aggregation <function mean at 0x10c2b77e0> had no inputs.\n",
      "  warnings.warn(\n",
      "/Users/abdullah/Documents/RAG_test/.venv/lib/python3.12/site-packages/trulens/feedback/llm_provider.py:1484: UserWarning: Failed to process and remove trivial statements. Proceeding with all statements.\n",
      "  warnings.warn(\n",
      "/Users/abdullah/Documents/RAG_test/.venv/lib/python3.12/site-packages/trulens/core/feedback/feedback.py:974: UserWarning: Feedback function Context Relevance with aggregation <function mean at 0x10c2b77e0> had no inputs.\n",
      "  warnings.warn(\n"
     ]
    },
    {
     "name": "stderr",
     "output_type": "stream",
     "text": [
      "/Users/abdullah/Documents/RAG_test/.venv/lib/python3.12/site-packages/trulens/feedback/llm_provider.py:1484: UserWarning: Failed to process and remove trivial statements. Proceeding with all statements.\n",
      "  warnings.warn(\n"
     ]
    }
   ],
   "source": [
    "with tru_rag as recording:\n",
    "    for eval in HardQuestions[0:3]:\n",
    "        pace.mark()\n",
    "        print(eval[\"question\"])\n",
    "        rag_app.query(\n",
    "        eval[\"question\"]\n",
    "    )\n",
    "\n"
   ]
  },
  {
   "cell_type": "code",
   "execution_count": 70,
   "metadata": {},
   "outputs": [
    {
     "name": "stdout",
     "output_type": "stream",
     "text": [
      "Starting dashboard ...\n",
      "Dashboard already running at path:   Network URL: http://192.168.1.17:51639\n",
      "\n"
     ]
    },
    {
     "data": {
      "text/plain": [
       "<Popen: returncode: None args: ['streamlit', 'run', '--server.headless=True'...>"
      ]
     },
     "execution_count": 70,
     "metadata": {},
     "output_type": "execute_result"
    }
   ],
   "source": [
    "from trulens.dashboard import run_dashboard\n",
    "\n",
    "run_dashboard(session)"
   ]
  },
  {
   "cell_type": "code",
   "execution_count": 71,
   "metadata": {},
   "outputs": [
    {
     "name": "stdout",
     "output_type": "stream",
     "text": [
      "A medical facility wants to register a conventional pharmaceutical product and later modify its dosage. What would be the total timeline and fees involved in both processes?\n"
     ]
    }
   ],
   "source": [
    "print(eval[\"question\"])\n"
   ]
  },
  {
   "cell_type": "code",
   "execution_count": null,
   "metadata": {},
   "outputs": [],
   "source": []
  }
 ],
 "metadata": {
  "kernelspec": {
   "display_name": ".venv",
   "language": "python",
   "name": "python3"
  },
  "language_info": {
   "codemirror_mode": {
    "name": "ipython",
    "version": 3
   },
   "file_extension": ".py",
   "mimetype": "text/x-python",
   "name": "python",
   "nbconvert_exporter": "python",
   "pygments_lexer": "ipython3",
   "version": "3.12.7"
  }
 },
 "nbformat": 4,
 "nbformat_minor": 2
}
